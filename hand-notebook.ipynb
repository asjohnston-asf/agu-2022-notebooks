{
 "cells": [
  {
   "cell_type": "markdown",
   "id": "e2c43438-2d9d-4cf4-9cc9-925e7ed4a801",
   "metadata": {},
   "source": [
    "# Search the HAND Catalog"
   ]
  },
  {
   "cell_type": "markdown",
   "id": "b2f6cd57-334f-43f4-a55c-7188cc003a44",
   "metadata": {
    "tags": []
   },
   "source": [
    "## 1. Install pystac-client\n",
    "\n",
    "[pystac-client](https://pystac-client.readthedocs.io/en/stable/) is a Python package for working with STAC APIs."
   ]
  },
  {
   "cell_type": "code",
   "execution_count": null,
   "id": "7f1cd282-46f4-4c5d-b2ef-b03fb44a0cb1",
   "metadata": {},
   "outputs": [],
   "source": [
    "!pip install pystac-client"
   ]
  },
  {
   "cell_type": "markdown",
   "id": "00f8c8a0-6f5d-48b0-a6b2-4ac82446bc96",
   "metadata": {},
   "source": [
    "## 2. Connect to the API"
   ]
  },
  {
   "cell_type": "code",
   "execution_count": 1,
   "id": "6e32dc19-19af-4132-98f4-bbfe82961eb8",
   "metadata": {},
   "outputs": [],
   "source": [
    "from pystac_client import Client\n",
    "\n",
    "client = Client.open('https://stac.asf.alaska.edu/')"
   ]
  },
  {
   "cell_type": "markdown",
   "id": "c520af74-8dd2-451b-aecf-424476219e70",
   "metadata": {},
   "source": [
    "## 3. Search for data\n",
    "\n",
    "A STAC [item](https://github.com/radiantearth/stac-spec/blob/master/item-spec/item-spec.md) represents a specific asset in a data set, such as a GeoTIFF file. Users can search for items using a combination of geographic coordinates and item metadata. Search results include metadata about each item, including links to the data itself."
   ]
  },
  {
   "cell_type": "code",
   "execution_count": 3,
   "id": "4b3dc5ed-c48d-45ab-a9ad-f56a79dc1c07",
   "metadata": {
    "tags": []
   },
   "outputs": [
    {
     "name": "stdout",
     "output_type": "stream",
     "text": [
      "https://glo30-hand.s3.us-west-2.amazonaws.com/v1/2021/Copernicus_DSM_COG_10_N41_00_W087_00_HAND.tif\n",
      "https://glo30-hand.s3.us-west-2.amazonaws.com/v1/2021/Copernicus_DSM_COG_10_N41_00_W088_00_HAND.tif\n",
      "https://glo30-hand.s3.us-west-2.amazonaws.com/v1/2021/Copernicus_DSM_COG_10_N41_00_W089_00_HAND.tif\n",
      "https://glo30-hand.s3.us-west-2.amazonaws.com/v1/2021/Copernicus_DSM_COG_10_N42_00_W087_00_HAND.tif\n",
      "https://glo30-hand.s3.us-west-2.amazonaws.com/v1/2021/Copernicus_DSM_COG_10_N42_00_W088_00_HAND.tif\n",
      "https://glo30-hand.s3.us-west-2.amazonaws.com/v1/2021/Copernicus_DSM_COG_10_N42_00_W089_00_HAND.tif\n",
      "https://glo30-hand.s3.us-west-2.amazonaws.com/v1/2021/Copernicus_DSM_COG_10_N43_00_W087_00_HAND.tif\n",
      "https://glo30-hand.s3.us-west-2.amazonaws.com/v1/2021/Copernicus_DSM_COG_10_N43_00_W088_00_HAND.tif\n",
      "https://glo30-hand.s3.us-west-2.amazonaws.com/v1/2021/Copernicus_DSM_COG_10_N43_00_W089_00_HAND.tif\n"
     ]
    }
   ],
   "source": [
    "search_results = client.search(\n",
    "    collections=['glo30-hand'],\n",
    "    bbox=[-88, 41, -87, 42],  # Hello, Chicago!\n",
    ")\n",
    "for item in search_results.items():\n",
    "    print(item.assets['data'].href)"
   ]
  },
  {
   "cell_type": "code",
   "execution_count": null,
   "id": "dd3fe062-6ee8-4a89-85e0-a3f758e5330f",
   "metadata": {},
   "outputs": [],
   "source": []
  }
 ],
 "metadata": {
  "kernelspec": {
   "display_name": "Python 3 (ipykernel)",
   "language": "python",
   "name": "python3"
  },
  "language_info": {
   "codemirror_mode": {
    "name": "ipython",
    "version": 3
   },
   "file_extension": ".py",
   "mimetype": "text/x-python",
   "name": "python",
   "nbconvert_exporter": "python",
   "pygments_lexer": "ipython3",
   "version": "3.10.6"
  }
 },
 "nbformat": 4,
 "nbformat_minor": 5
}
